{
  "cells": [
    {
      "cell_type": "markdown",
      "metadata": {
        "id": "view-in-github",
        "colab_type": "text"
      },
      "source": [
        "<a href=\"https://colab.research.google.com/github/Sarupriya1998/Project-works/blob/main/Word_game_using_Python.ipynb\" target=\"_parent\"><img src=\"https://colab.research.google.com/assets/colab-badge.svg\" alt=\"Open In Colab\"/></a>"
      ]
    },
    {
      "cell_type": "code",
      "execution_count": null,
      "metadata": {
        "colab": {
          "background_save": true,
          "base_uri": "https://localhost:8080/"
        },
        "id": "grBApXNzVrku",
        "outputId": "376f3597-c0f0-405d-a880-6df34e0323b6"
      },
      "outputs": [
        {
          "name": "stdout",
          "output_type": "stream",
          "text": [
            "['?', '?', '?', '?', '?']\n",
            "Lives left: ❤❤❤\n"
          ]
        }
      ],
      "source": [
        "import random\n",
        "lives = 3\n",
        "\n",
        "words = ['pizza', 'fairy', 'teeth', 'shirt', 'otter', 'plane']\n",
        "secret_word = random.choice(words)\n",
        "\n",
        "clue = list('?????')\n",
        "heart_symbol = u'\\u2764'\n",
        "\n",
        "guessed_word_correctly = False\n",
        "\n",
        "def update_clue(guessed_letter, secret_word, clue):\n",
        "    index = 0\n",
        "    while index < len(secret_word):\n",
        "        if guessed_letter == secret_word[index]:\n",
        "            clue[index] = guessed_letter\n",
        "        index = index + 1\n",
        "\n",
        "while lives > 0:\n",
        "    print(clue)\n",
        "    print('Lives left: ' + heart_symbol * lives)\n",
        "    guess = input('Guess a letter or the whole word: ')\n",
        "\n",
        "    if guess == secret_word:\n",
        "        guessed_word_correctly = True\n",
        "        break\n",
        "\n",
        "    if guess in secret_word:\n",
        "        update_clue(guess, secret_word, clue)\n",
        "    else:\n",
        "        print('Incorrect. You lose a life')\n",
        "        lives = lives - 1\n",
        "\n",
        "if guessed_word_correctly:\n",
        "    print('You won! The secret word was ' + secret_word)\n",
        "else:\n",
        "    print('You lost! The secret word was ' + secret_word)\n"
      ]
    }
  ],
  "metadata": {
    "colab": {
      "provenance": [],
      "authorship_tag": "ABX9TyPjBGtIPw3svd+q6JynnaL8",
      "include_colab_link": true
    },
    "kernelspec": {
      "display_name": "Python 3",
      "name": "python3"
    },
    "language_info": {
      "name": "python"
    }
  },
  "nbformat": 4,
  "nbformat_minor": 0
}