{
  "nbformat": 4,
  "nbformat_minor": 0,
  "metadata": {
    "colab": {
      "provenance": [],
      "authorship_tag": "ABX9TyPlidPujn74cRObey07QgOS",
      "include_colab_link": true
    },
    "kernelspec": {
      "name": "python3",
      "display_name": "Python 3"
    },
    "language_info": {
      "name": "python"
    }
  },
  "cells": [
    {
      "cell_type": "markdown",
      "metadata": {
        "id": "view-in-github",
        "colab_type": "text"
      },
      "source": [
        "<a href=\"https://colab.research.google.com/github/Sarupriya1998/Project-works/blob/main/Number_guessing_game_using_Python.ipynb\" target=\"_parent\"><img src=\"https://colab.research.google.com/assets/colab-badge.svg\" alt=\"Open In Colab\"/></a>"
      ]
    },
    {
      "cell_type": "code",
      "execution_count": 1,
      "metadata": {
        "colab": {
          "base_uri": "https://localhost:8080/"
        },
        "id": "I1XbYvyg5D39",
        "outputId": "b9ea55d3-cfa1-48e2-872b-045fe1042bfe"
      },
      "outputs": [
        {
          "output_type": "stream",
          "name": "stdout",
          "text": [
            "Enter Lower bound:- 50\n",
            "Enter Upper bound:- 80\n",
            "\n",
            "\tYou've only  5  chances to guess the integer!\n",
            "\n",
            "Guess a number:- 60\n",
            "You guessed too small!\n",
            "Guess a number:- 70\n",
            "You Guessed too high!\n",
            "Guess a number:- 65\n",
            "You guessed too small!\n",
            "Guess a number:- 68\n",
            "Congratulations you did it in  4  try\n"
          ]
        }
      ],
      "source": [
        "import random\n",
        "import math\n",
        "# Taking Inputs\n",
        "lower = int(input(\"Enter Lower bound:- \"))\n",
        " \n",
        "# Taking Inputs\n",
        "upper = int(input(\"Enter Upper bound:- \"))\n",
        " \n",
        "# generating random number between\n",
        "# the lower and upper\n",
        "x = random.randint(lower, upper)\n",
        "print(\"\\n\\tYou've only \",\n",
        "       round(math.log(upper - lower + 1, 2)),\n",
        "      \" chances to guess the integer!\\n\")\n",
        " \n",
        "# Initializing the number of guesses.\n",
        "count = 0\n",
        " \n",
        "# for calculation of minimum number of\n",
        "# guesses depends upon range\n",
        "while count < math.log(upper - lower + 1, 2):\n",
        "    count += 1\n",
        " \n",
        "    # taking guessing number as input\n",
        "    guess = int(input(\"Guess a number:- \"))\n",
        " \n",
        "    # Condition testing\n",
        "    if x == guess:\n",
        "        print(\"Congratulations you did it in \",\n",
        "              count, \" try\")\n",
        "        # Once guessed, loop will break\n",
        "        break\n",
        "    elif x > guess:\n",
        "        print(\"You guessed too small!\")\n",
        "    elif x < guess:\n",
        "        print(\"You Guessed too high!\")\n",
        " \n",
        "# If Guessing is more than required guesses,\n",
        "# shows this output.\n",
        "if count >= math.log(upper - lower + 1, 2):\n",
        "    print(\"\\nThe number is %d\" % x)\n",
        "    print(\"\\tBetter Luck Next time!\")\n",
        " "
      ]
    }
  ]
}